{
 "cells": [
  {
   "attachments": {
    "rpsImg.jpg": {
     "image/jpeg": "[encoded data removed]"
    }
   },
   "cell_type": "markdown",
   "metadata": {},
   "source": [
    "![rpsImg.jpg](attachment:rpsImg.jpg)\n",
    "\n",
    "# Code your own Rock-Paper-Scissors Game!\n",
    "\n",
    "Here you will learn how to code your very own Rock-Paper-Scissors game computer.\n",
    "\n",
    "First, inform your player about the three options:"
   ]
  },
  {
   "cell_type": "code",
   "execution_count": 23,
   "metadata": {},
   "outputs": [
    {
     "name": "stdout",
     "output_type": "stream",
     "text": [
      "Rock is r\n",
      "Paper is p\n",
      "Scissors is s\n"
     ]
    }
   ],
   "source": [
    "print(\"Rock is r\")\n",
    "print(\"Paper is p\")\n",
    "print(\"Scissors is s\")"
   ]
  },
  {
   "cell_type": "markdown",
   "metadata": {},
   "source": [
    "Now, prompt them to choose their hand."
   ]
  },
  {
   "cell_type": "code",
   "execution_count": 24,
   "metadata": {},
   "outputs": [
    {
     "name": "stdout",
     "output_type": "stream",
     "text": [
      "please choose your hand!\n",
      "s\n"
     ]
    }
   ],
   "source": [
    "print(\"please choose your hand!\")\n",
    "person = input()"
   ]
  },
  {
   "cell_type": "code",
   "execution_count": 29,
   "metadata": {
    "scrolled": true
   },
   "outputs": [
    {
     "name": "stdout",
     "output_type": "stream",
     "text": [
      "You chose:s\n",
      "The computer chose:s\n",
      "The winner is: person\n"
     ]
    }
   ],
   "source": [
    "import random\n",
    "\n",
    "computer = random.choice(['r', 'p', 's'])\n",
    "\n",
    "if (person is 'p') & (computer is 'r'):\n",
    "    winner = \"person\"\n",
    "\n",
    "\n",
    "if (person is 'p') & (computer is 's'):\n",
    "    winner = \"computer\"\n",
    "\n",
    "\n",
    "if (person is 'r') & (computer is 's'):\n",
    "    winner = \"person\"\n",
    "\n",
    "\n",
    "if (person is 'r') & (computer is 'p'):\n",
    "    winner = \"computer\"\n",
    "\n",
    "\n",
    "if (person is 's') & (computer is 'p'):\n",
    "    winner = \"person\"\n",
    "\n",
    "\n",
    "if (person is 's') & (computer is 'r'):\n",
    "    winner = \"computer\"\n",
    "\n",
    "print(\"You chose:\" + person)\n",
    "print(\"The computer chose:\" + computer)\n",
    "print(\"The winner is: \" + winner)"
   ]
  }
 ],
 "metadata": {
  "kernelspec": {
   "display_name": "Python 3",
   "language": "python",
   "name": "python3"
  },
  "language_info": {
   "codemirror_mode": {
    "name": "ipython",
    "version": 3
   },
   "file_extension": ".py",
   "mimetype": "text/x-python",
   "name": "python",
   "nbconvert_exporter": "python",
   "pygments_lexer": "ipython3",
   "version": "3.6.1"
  }
 },
 "nbformat": 4,
 "nbformat_minor": 2
}
