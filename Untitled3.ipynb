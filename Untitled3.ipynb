{
 "cells": [
  {
   "cell_type": "markdown",
   "metadata": {},
   "source": [
    "Tell the player what they can use"
   ]
  },
  {
   "cell_type": "code",
   "execution_count": 38,
   "metadata": {},
   "outputs": [
    {
     "name": "stdout",
     "output_type": "stream",
     "text": [
      "Rock is r\n",
      "Paper is p\n",
      "Scissors is s\n"
     ]
    }
   ],
   "source": [
    "print(\"Rock is r\")\n",
    "print(\"Paper is p\")\n",
    "print(\"Scissors is s\")"
   ]
  },
  {
   "cell_type": "markdown",
   "metadata": {},
   "source": [
    "Ask them to choose"
   ]
  },
  {
   "cell_type": "code",
   "execution_count": 47,
   "metadata": {},
   "outputs": [
    {
     "name": "stdout",
     "output_type": "stream",
     "text": [
      "please choose your hand!\n",
      "s\n"
     ]
    }
   ],
   "source": [
    "print(\"please choose your hand!\")\n",
    "person = input()"
   ]
  },
  {
   "cell_type": "code",
   "execution_count": 52,
   "metadata": {
    "scrolled": true
   },
   "outputs": [
    {
     "name": "stdout",
     "output_type": "stream",
     "text": [
      "You chose:s\n",
      "The computer chose:r\n",
      "The winner is:computer\n"
     ]
    }
   ],
   "source": [
    "computer = random.choice(['r', 'p', 's'])\n",
    "\n",
    "if (person is 'p') & (computer is 'r'):\n",
    "    winner = \"person\"\n",
    "\n",
    "\n",
    "if (person is 'p') & (computer is 's'):\n",
    "    winner = \"computer\"\n",
    "\n",
    "\n",
    "if (person is 'r') & (computer is 's'):\n",
    "    winner = \"person\"\n",
    "\n",
    "\n",
    "if (person is 'r') & (computer is 'p'):\n",
    "    winner = \"computer\"\n",
    "\n",
    "\n",
    "if (person is 's') & (computer is 'p'):\n",
    "    winner = \"person\"\n",
    "\n",
    "\n",
    "if (person is 's') & (computer is 'r'):\n",
    "    winner = \"computer\"\n",
    "\n",
    "print(\"You chose:\" + person)\n",
    "print(\"The computer chose:\" + computer)\n",
    "print(\"The winner is:\" + winner)\n"
   ]
  },
  {
   "cell_type": "code",
   "execution_count": null,
   "metadata": {
    "collapsed": true
   },
   "outputs": [],
   "source": []
  },
  {
   "cell_type": "code",
   "execution_count": null,
   "metadata": {
    "collapsed": true
   },
   "outputs": [],
   "source": []
  },
  {
   "cell_type": "code",
   "execution_count": null,
   "metadata": {
    "collapsed": true
   },
   "outputs": [],
   "source": []
  }
 ],
 "metadata": {
  "kernelspec": {
   "display_name": "Python 3",
   "language": "python",
   "name": "python3"
  },
  "language_info": {
   "codemirror_mode": {
    "name": "ipython",
    "version": 3
   },
   "file_extension": ".py",
   "mimetype": "text/x-python",
   "name": "python",
   "nbconvert_exporter": "python",
   "pygments_lexer": "ipython3",
   "version": "3.6.1"
  }
 },
 "nbformat": 4,
 "nbformat_minor": 2
}
